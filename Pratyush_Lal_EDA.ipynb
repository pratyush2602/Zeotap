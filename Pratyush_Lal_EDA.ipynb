{
 "cells": [
  {
   "cell_type": "code",
   "execution_count": 215,
   "id": "01fc0aea",
   "metadata": {},
   "outputs": [],
   "source": [
    "import pandas as pd\n",
    "import numpy as np\n",
    "import matplotlib.pyplot as plt\n",
    "import seaborn as sns\n",
    "from sklearn.model_selection import train_test_split\n",
    "from sklearn.ensemble import RandomForestRegressor\n",
    "from sklearn.metrics import mean_squared_error\n",
    "\n",
    "# Load the datasets\n",
    "customers = pd.read_csv(\"Customers.csv\")\n",
    "products = pd.read_csv(\"Products.csv\")\n",
    "transactions = pd.read_csv(\"Transactions.csv\")"
   ]
  },
  {
   "cell_type": "code",
   "execution_count": 216,
   "id": "176252a3",
   "metadata": {},
   "outputs": [],
   "source": [
    "# Convert dates to datetime format\n",
    "customers['SignupDate'] = pd.to_datetime(customers['SignupDate'])\n",
    "transactions['TransactionDate'] = pd.to_datetime(transactions['TransactionDate'])"
   ]
  },
  {
   "cell_type": "code",
   "execution_count": null,
   "id": "cde71049",
   "metadata": {
    "scrolled": true
   },
   "outputs": [],
   "source": []
  },
  {
   "cell_type": "code",
   "execution_count": null,
   "id": "50df4112",
   "metadata": {
    "scrolled": true
   },
   "outputs": [],
   "source": []
  },
  {
   "cell_type": "code",
   "execution_count": null,
   "id": "f0044d60",
   "metadata": {},
   "outputs": [],
   "source": []
  },
  {
   "cell_type": "code",
   "execution_count": 217,
   "id": "6ae38355",
   "metadata": {
    "scrolled": true
   },
   "outputs": [],
   "source": [
    "# Merge datasets for EDA\n",
    "merged = transactions.merge(products, on='ProductID', how='left')\n",
    "final_merged_df = merged.merge(customers, on='CustomerID', how='left')\n"
   ]
  },
  {
   "cell_type": "code",
   "execution_count": 218,
   "id": "3f50493e",
   "metadata": {},
   "outputs": [],
   "source": [
    "final_merged_df=final_merged_df.drop(columns=['Price_y'])"
   ]
  },
  {
   "cell_type": "code",
   "execution_count": 222,
   "id": "1ffa699a",
   "metadata": {},
   "outputs": [
    {
     "data": {
      "text/html": [
       "<div>\n",
       "<style scoped>\n",
       "    .dataframe tbody tr th:only-of-type {\n",
       "        vertical-align: middle;\n",
       "    }\n",
       "\n",
       "    .dataframe tbody tr th {\n",
       "        vertical-align: top;\n",
       "    }\n",
       "\n",
       "    .dataframe thead th {\n",
       "        text-align: right;\n",
       "    }\n",
       "</style>\n",
       "<table border=\"1\" class=\"dataframe\">\n",
       "  <thead>\n",
       "    <tr style=\"text-align: right;\">\n",
       "      <th></th>\n",
       "      <th>TransactionID</th>\n",
       "      <th>CustomerID</th>\n",
       "      <th>ProductID</th>\n",
       "      <th>TransactionDate</th>\n",
       "      <th>Quantity</th>\n",
       "      <th>TotalValue</th>\n",
       "      <th>Price_x</th>\n",
       "      <th>ProductName</th>\n",
       "      <th>Category</th>\n",
       "      <th>CustomerName</th>\n",
       "      <th>Region</th>\n",
       "      <th>SignupDate</th>\n",
       "    </tr>\n",
       "  </thead>\n",
       "  <tbody>\n",
       "    <tr>\n",
       "      <th>0</th>\n",
       "      <td>T00001</td>\n",
       "      <td>C0199</td>\n",
       "      <td>P067</td>\n",
       "      <td>2024-08-25 12:38:23</td>\n",
       "      <td>1</td>\n",
       "      <td>300.68</td>\n",
       "      <td>300.68</td>\n",
       "      <td>ComfortLiving Bluetooth Speaker</td>\n",
       "      <td>Electronics</td>\n",
       "      <td>Andrea Jenkins</td>\n",
       "      <td>Europe</td>\n",
       "      <td>2022-12-03</td>\n",
       "    </tr>\n",
       "    <tr>\n",
       "      <th>1</th>\n",
       "      <td>T00112</td>\n",
       "      <td>C0146</td>\n",
       "      <td>P067</td>\n",
       "      <td>2024-05-27 22:23:54</td>\n",
       "      <td>1</td>\n",
       "      <td>300.68</td>\n",
       "      <td>300.68</td>\n",
       "      <td>ComfortLiving Bluetooth Speaker</td>\n",
       "      <td>Electronics</td>\n",
       "      <td>Brittany Harvey</td>\n",
       "      <td>Asia</td>\n",
       "      <td>2024-09-04</td>\n",
       "    </tr>\n",
       "    <tr>\n",
       "      <th>2</th>\n",
       "      <td>T00166</td>\n",
       "      <td>C0127</td>\n",
       "      <td>P067</td>\n",
       "      <td>2024-04-25 07:38:55</td>\n",
       "      <td>1</td>\n",
       "      <td>300.68</td>\n",
       "      <td>300.68</td>\n",
       "      <td>ComfortLiving Bluetooth Speaker</td>\n",
       "      <td>Electronics</td>\n",
       "      <td>Kathryn Stevens</td>\n",
       "      <td>Europe</td>\n",
       "      <td>2024-04-04</td>\n",
       "    </tr>\n",
       "    <tr>\n",
       "      <th>3</th>\n",
       "      <td>T00272</td>\n",
       "      <td>C0087</td>\n",
       "      <td>P067</td>\n",
       "      <td>2024-03-26 22:55:37</td>\n",
       "      <td>2</td>\n",
       "      <td>601.36</td>\n",
       "      <td>300.68</td>\n",
       "      <td>ComfortLiving Bluetooth Speaker</td>\n",
       "      <td>Electronics</td>\n",
       "      <td>Travis Campbell</td>\n",
       "      <td>South America</td>\n",
       "      <td>2024-04-11</td>\n",
       "    </tr>\n",
       "    <tr>\n",
       "      <th>4</th>\n",
       "      <td>T00363</td>\n",
       "      <td>C0070</td>\n",
       "      <td>P067</td>\n",
       "      <td>2024-03-21 15:10:10</td>\n",
       "      <td>3</td>\n",
       "      <td>902.04</td>\n",
       "      <td>300.68</td>\n",
       "      <td>ComfortLiving Bluetooth Speaker</td>\n",
       "      <td>Electronics</td>\n",
       "      <td>Timothy Perez</td>\n",
       "      <td>Europe</td>\n",
       "      <td>2022-03-15</td>\n",
       "    </tr>\n",
       "    <tr>\n",
       "      <th>5</th>\n",
       "      <td>T00442</td>\n",
       "      <td>C0188</td>\n",
       "      <td>P067</td>\n",
       "      <td>2024-12-26 14:40:03</td>\n",
       "      <td>1</td>\n",
       "      <td>300.68</td>\n",
       "      <td>300.68</td>\n",
       "      <td>ComfortLiving Bluetooth Speaker</td>\n",
       "      <td>Electronics</td>\n",
       "      <td>Anna Ball</td>\n",
       "      <td>South America</td>\n",
       "      <td>2022-05-17</td>\n",
       "    </tr>\n",
       "    <tr>\n",
       "      <th>6</th>\n",
       "      <td>T00490</td>\n",
       "      <td>C0195</td>\n",
       "      <td>P067</td>\n",
       "      <td>2024-11-24 11:49:48</td>\n",
       "      <td>3</td>\n",
       "      <td>902.04</td>\n",
       "      <td>300.68</td>\n",
       "      <td>ComfortLiving Bluetooth Speaker</td>\n",
       "      <td>Electronics</td>\n",
       "      <td>Jeremy Mclaughlin</td>\n",
       "      <td>South America</td>\n",
       "      <td>2024-09-17</td>\n",
       "    </tr>\n",
       "    <tr>\n",
       "      <th>7</th>\n",
       "      <td>T00536</td>\n",
       "      <td>C0008</td>\n",
       "      <td>P067</td>\n",
       "      <td>2024-09-22 06:13:59</td>\n",
       "      <td>1</td>\n",
       "      <td>300.68</td>\n",
       "      <td>300.68</td>\n",
       "      <td>ComfortLiving Bluetooth Speaker</td>\n",
       "      <td>Electronics</td>\n",
       "      <td>David Li</td>\n",
       "      <td>North America</td>\n",
       "      <td>2024-01-13</td>\n",
       "    </tr>\n",
       "    <tr>\n",
       "      <th>8</th>\n",
       "      <td>T00564</td>\n",
       "      <td>C0157</td>\n",
       "      <td>P067</td>\n",
       "      <td>2024-12-07 17:57:40</td>\n",
       "      <td>3</td>\n",
       "      <td>902.04</td>\n",
       "      <td>300.68</td>\n",
       "      <td>ComfortLiving Bluetooth Speaker</td>\n",
       "      <td>Electronics</td>\n",
       "      <td>Miguel Wong</td>\n",
       "      <td>North America</td>\n",
       "      <td>2024-01-30</td>\n",
       "    </tr>\n",
       "    <tr>\n",
       "      <th>9</th>\n",
       "      <td>T00631</td>\n",
       "      <td>C0130</td>\n",
       "      <td>P067</td>\n",
       "      <td>2024-05-14 23:14:59</td>\n",
       "      <td>2</td>\n",
       "      <td>601.36</td>\n",
       "      <td>300.68</td>\n",
       "      <td>ComfortLiving Bluetooth Speaker</td>\n",
       "      <td>Electronics</td>\n",
       "      <td>Robert Jones</td>\n",
       "      <td>South America</td>\n",
       "      <td>2023-04-19</td>\n",
       "    </tr>\n",
       "  </tbody>\n",
       "</table>\n",
       "</div>"
      ],
      "text/plain": [
       "  TransactionID CustomerID ProductID     TransactionDate  Quantity  \\\n",
       "0        T00001      C0199      P067 2024-08-25 12:38:23         1   \n",
       "1        T00112      C0146      P067 2024-05-27 22:23:54         1   \n",
       "2        T00166      C0127      P067 2024-04-25 07:38:55         1   \n",
       "3        T00272      C0087      P067 2024-03-26 22:55:37         2   \n",
       "4        T00363      C0070      P067 2024-03-21 15:10:10         3   \n",
       "5        T00442      C0188      P067 2024-12-26 14:40:03         1   \n",
       "6        T00490      C0195      P067 2024-11-24 11:49:48         3   \n",
       "7        T00536      C0008      P067 2024-09-22 06:13:59         1   \n",
       "8        T00564      C0157      P067 2024-12-07 17:57:40         3   \n",
       "9        T00631      C0130      P067 2024-05-14 23:14:59         2   \n",
       "\n",
       "   TotalValue  Price_x                      ProductName     Category  \\\n",
       "0      300.68   300.68  ComfortLiving Bluetooth Speaker  Electronics   \n",
       "1      300.68   300.68  ComfortLiving Bluetooth Speaker  Electronics   \n",
       "2      300.68   300.68  ComfortLiving Bluetooth Speaker  Electronics   \n",
       "3      601.36   300.68  ComfortLiving Bluetooth Speaker  Electronics   \n",
       "4      902.04   300.68  ComfortLiving Bluetooth Speaker  Electronics   \n",
       "5      300.68   300.68  ComfortLiving Bluetooth Speaker  Electronics   \n",
       "6      902.04   300.68  ComfortLiving Bluetooth Speaker  Electronics   \n",
       "7      300.68   300.68  ComfortLiving Bluetooth Speaker  Electronics   \n",
       "8      902.04   300.68  ComfortLiving Bluetooth Speaker  Electronics   \n",
       "9      601.36   300.68  ComfortLiving Bluetooth Speaker  Electronics   \n",
       "\n",
       "        CustomerName         Region SignupDate  \n",
       "0     Andrea Jenkins         Europe 2022-12-03  \n",
       "1    Brittany Harvey           Asia 2024-09-04  \n",
       "2    Kathryn Stevens         Europe 2024-04-04  \n",
       "3    Travis Campbell  South America 2024-04-11  \n",
       "4      Timothy Perez         Europe 2022-03-15  \n",
       "5          Anna Ball  South America 2022-05-17  \n",
       "6  Jeremy Mclaughlin  South America 2024-09-17  \n",
       "7           David Li  North America 2024-01-13  \n",
       "8        Miguel Wong  North America 2024-01-30  \n",
       "9       Robert Jones  South America 2023-04-19  "
      ]
     },
     "execution_count": 222,
     "metadata": {},
     "output_type": "execute_result"
    }
   ],
   "source": [
    "final_merged_df.head(10)"
   ]
  },
  {
   "cell_type": "markdown",
   "id": "dfff57b5",
   "metadata": {},
   "source": [
    "# Top selling Products\n",
    "## Here we can see what are the most bought products such as soundwave jeans and soundwave cookbook and try to promote them more or recommend that to the users"
   ]
  },
  {
   "cell_type": "code",
   "execution_count": 219,
   "id": "b4024385",
   "metadata": {
    "scrolled": true
   },
   "outputs": [
    {
     "name": "stdout",
     "output_type": "stream",
     "text": [
      "   ProductID               ProductName  Quantity\n",
      "58      P059           SoundWave Jeans        46\n",
      "53      P054        SoundWave Cookbook        46\n",
      "28      P029        TechPro Headphones        45\n",
      "78      P079            ActiveWear Rug        43\n",
      "60      P061       HomeSense Desk Lamp        43\n",
      "..       ...                       ...       ...\n",
      "43      P044  ActiveWear Running Shoes        13\n",
      "59      P060         HomeSense T-Shirt        13\n",
      "23      P024        SoundWave Cookbook        12\n",
      "98      P099    SoundWave Mystery Book        11\n",
      "30      P031      SoundWave Headphones         9\n",
      "\n",
      "[100 rows x 3 columns]\n"
     ]
    }
   ],
   "source": [
    "# Group by ProductID and ProductName, summing up the Quantity\n",
    "top_selling_products = final_merged_df.groupby(['ProductID', 'ProductName'])['Quantity'].sum().reset_index()\n",
    "\n",
    "# Sort the products by Quantity in descending order\n",
    "top_selling_products = top_selling_products.sort_values(by='Quantity', ascending=False)\n",
    "\n",
    "# Display the top-selling products\n",
    "print(top_selling_products)"
   ]
  },
  {
   "cell_type": "markdown",
   "id": "a39def11",
   "metadata": {},
   "source": [
    "# Customer Distribution\n",
    "## Here we can observe that most of the customers are from south america which means we have more market penetration there and hence we could try localized marketting etc."
   ]
  },
  {
   "cell_type": "code",
   "execution_count": 160,
   "id": "a4773432",
   "metadata": {
    "scrolled": true
   },
   "outputs": [
    {
     "name": "stdout",
     "output_type": "stream",
     "text": [
      "Customer distribution by region:\n",
      "Region\n",
      "South America    304\n",
      "North America    244\n",
      "Europe           234\n",
      "Asia             218\n",
      "Name: count, dtype: int64\n"
     ]
    },
    {
     "data": {
      "image/png": "[encoded data removed]",
      "text/plain": [
       "<Figure size 432x288 with 1 Axes>"
      ]
     },
     "metadata": {
      "needs_background": "light"
     },
     "output_type": "display_data"
    }
   ],
   "source": [
    "print(\"Customer distribution by region:\")\n",
    "print(final_merged_df['Region'].value_counts())\n",
    "sns.countplot(data=customers, x='Region')\n",
    "plt.title(\"Customer Distribution by Region\")\n",
    "plt.show()"
   ]
  },
  {
   "cell_type": "markdown",
   "id": "bbf66ce8",
   "metadata": {},
   "source": [
    "# Transaction Analysis\n",
    "\n",
    "## Here we can see that there is maximum demand in september of 2024 hence we can offer discounts and prepare the inventory on that basis, similarly when the demand is too low or there is a dip like in november 2024 we need to stimulate more sales and manage inventory"
   ]
  },
  {
   "cell_type": "code",
   "execution_count": 161,
   "id": "a3e46966",
   "metadata": {
    "scrolled": true
   },
   "outputs": [
    {
     "data": {
      "image/png": "[encoded data removed]",
      "text/plain": [
       "<Figure size 432x288 with 1 Axes>"
      ]
     },
     "metadata": {
      "needs_background": "light"
     },
     "output_type": "display_data"
    }
   ],
   "source": [
    "final_merged_df['YearMonth'] = final_merged_df['TransactionDate'].dt.to_period('M')\n",
    "monthly_sales = final_merged_df.groupby('YearMonth')['TotalValue'].sum()\n",
    "\n",
    "plt.plot(monthly_sales.index.astype(str), monthly_sales.values)\n",
    "plt.title(\"Monthly Sales Trend\")\n",
    "plt.xticks(rotation=45)\n",
    "plt.ylabel(\"Total Sales Value\")\n",
    "plt.show()"
   ]
  },
  {
   "cell_type": "markdown",
   "id": "f3d6f703",
   "metadata": {},
   "source": [
    "# Customer Signup Trends\n",
    "##  here a sudden surge in number of signups can be seen in august which can coincide with product launches and marketing campaigns or we can do more campaigns in months like january and low signups month."
   ]
  },
  {
   "cell_type": "code",
   "execution_count": 162,
   "id": "35151667",
   "metadata": {},
   "outputs": [
    {
     "data": {
      "image/png": "[encoded data removed]",
      "text/plain": [
       "<Figure size 864x432 with 1 Axes>"
      ]
     },
     "metadata": {
      "needs_background": "light"
     },
     "output_type": "display_data"
    }
   ],
   "source": [
    "final_merged_df['SignupYearMonth'] = final_merged_df['SignupDate'].dt.to_period('M')\n",
    "signup_trends = final_merged_df.groupby('SignupYearMonth').size()\n",
    "signup_trends.plot(kind='bar', figsize=(12, 6))\n",
    "plt.title(\"Customer Signup Trends\")\n",
    "plt.xlabel(\"Year-Month\")\n",
    "plt.ylabel(\"Number of Signups\")\n",
    "plt.xticks(rotation=45)\n",
    "plt.show()"
   ]
  },
  {
   "cell_type": "markdown",
   "id": "7f685edd",
   "metadata": {},
   "source": [
    "# Price Distribution by Category\n",
    "## The prices are appropriately chosen and there are no such outliers in any category of products"
   ]
  },
  {
   "cell_type": "code",
   "execution_count": 163,
   "id": "1eb87309",
   "metadata": {
    "scrolled": true
   },
   "outputs": [
    {
     "data": {
      "image/png": "[encoded data removed]",
      "text/plain": [
       "<Figure size 432x288 with 1 Axes>"
      ]
     },
     "metadata": {
      "needs_background": "light"
     },
     "output_type": "display_data"
    }
   ],
   "source": [
    "sns.boxplot(data=final_merged_df, x='Category', y='Price_x')\n",
    "plt.title(\"Price Distribution by Product Category\")\n",
    "plt.xticks(rotation=45)\n",
    "plt.show()"
   ]
  },
  {
   "cell_type": "markdown",
   "id": "939961a0",
   "metadata": {},
   "source": [
    "# Quantity Analysis by Category\n",
    "## We can observe that all categories of products are pretty much sold in the same quantity and there is no imbalance in any of the categories"
   ]
  },
  {
   "cell_type": "code",
   "execution_count": 164,
   "id": "94696c26",
   "metadata": {},
   "outputs": [
    {
     "data": {
      "image/png": "[encoded data removed]",
      "text/plain": [
       "<Figure size 720x432 with 1 Axes>"
      ]
     },
     "metadata": {
      "needs_background": "light"
     },
     "output_type": "display_data"
    }
   ],
   "source": [
    "category_quantity = final_merged_df.groupby('Category')['Quantity'].sum().sort_values(ascending=False)\n",
    "category_quantity.plot(kind='bar', figsize=(10, 6))\n",
    "plt.title(\"Total Quantity Sold by Category\")\n",
    "plt.ylabel(\"Quantity Sold\")\n",
    "plt.xlabel(\"Category\")\n",
    "plt.xticks(rotation=45)\n",
    "plt.show()"
   ]
  },
  {
   "cell_type": "markdown",
   "id": "524ed460",
   "metadata": {},
   "source": [
    "# High-value customers\n",
    "## we can see the most valued customers and these should be retained which can be done by giving personalized marketing and offer premium products or exclusive goodies etc. "
   ]
  },
  {
   "cell_type": "code",
   "execution_count": 167,
   "id": "19531423",
   "metadata": {
    "scrolled": true
   },
   "outputs": [
    {
     "name": "stdout",
     "output_type": "stream",
     "text": [
      "High-value customers:\n",
      " CustomerID  CustomerName  \n",
      "C0141       Paul Parsons      10673.87\n",
      "C0054       Bruce Rhodes       8040.39\n",
      "C0065       Gerald Hines       7663.70\n",
      "C0156       William Adams      7634.45\n",
      "C0082       Aimee Taylor       7572.91\n",
      "                                ...   \n",
      "C0014       Deborah Wilcox      318.66\n",
      "C0151       Amber Gonzalez      223.96\n",
      "C0097       Tina Ford           137.54\n",
      "C0033       Tyler Holt          132.64\n",
      "C0060       James Murphy         82.36\n",
      "Name: TotalValue, Length: 199, dtype: float64\n"
     ]
    }
   ],
   "source": [
    "customer_value = final_merged_df.groupby(['CustomerID', 'CustomerName'])['TotalValue'].sum().sort_values(ascending=False)\n",
    "print(\"High-value customers:\\n\", customer_value)"
   ]
  },
  {
   "cell_type": "code",
   "execution_count": null,
   "id": "385c39e2",
   "metadata": {},
   "outputs": [],
   "source": []
  },
  {
   "cell_type": "code",
   "execution_count": null,
   "id": "f9ab3d56",
   "metadata": {},
   "outputs": [],
   "source": []
  },
  {
   "cell_type": "code",
   "execution_count": null,
   "id": "ae22bf7d",
   "metadata": {},
   "outputs": [],
   "source": []
  }
 ],
 "metadata": {
  "kernelspec": {
   "display_name": "Python 3 (ipykernel)",
   "language": "python",
   "name": "python3"
  },
  "language_info": {
   "codemirror_mode": {
    "name": "ipython",
    "version": 3
   },
   "file_extension": ".py",
   "mimetype": "text/x-python",
   "name": "python",
   "nbconvert_exporter": "python",
   "pygments_lexer": "ipython3",
   "version": "3.10.5"
  }
 },
 "nbformat": 4,
 "nbformat_minor": 5
}
